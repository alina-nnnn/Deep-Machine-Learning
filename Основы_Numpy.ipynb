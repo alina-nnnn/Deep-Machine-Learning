{
  "nbformat": 4,
  "nbformat_minor": 0,
  "metadata": {
    "colab": {
      "provenance": []
    },
    "kernelspec": {
      "name": "python3",
      "display_name": "Python 3"
    },
    "language_info": {
      "name": "python"
    }
  },
  "cells": [
    {
      "cell_type": "markdown",
      "source": [
        "**18 Основы Numpy. Часть 1 **"
      ],
      "metadata": {
        "id": "L2dVcG4yQ4OW"
      }
    },
    {
      "cell_type": "markdown",
      "source": [
        "Пример создания массива при помощи модуля array стандартной библиотеки Python:"
      ],
      "metadata": {
        "id": "U-235a5ueqrf"
      }
    },
    {
      "cell_type": "code",
      "execution_count": null,
      "metadata": {
        "colab": {
          "base_uri": "https://localhost:8080/"
        },
        "id": "-xJyy3ArJUK7",
        "outputId": "4352567f-b3b4-4449-c37e-b7df2b9a063f"
      },
      "outputs": [
        {
          "output_type": "stream",
          "name": "stdout",
          "text": [
            "array('i', [1, 2, 3, 4, 5])\n",
            "array('i', [2, 4, 6, 8, 10])\n"
          ]
        }
      ],
      "source": [
        "import array\n",
        "a = array.array('i', [1,2,3,4,5])\n",
        "\n",
        "\"\"\"Создаем новый массив b на основе а\"\"\"\n",
        "\n",
        "b = array.array(a.typecode, (2*x for x in a))\n",
        "# array.typecode - TypeCode символ, использованный при создании массива\n",
        "print(a)\n",
        "print(b)"
      ]
    },
    {
      "cell_type": "code",
      "source": [
        "import array\n",
        "a = array.array('f', [1,2,3,4,5])\n",
        "\n",
        "\"\"\"Создаем новый массив b на основе а\"\"\"\n",
        "\n",
        "b = array.array(a.typecode, (2*x for x in a))\n",
        "# array.typecode - TypeCode символ, использованный при создании массива\n",
        "print(a)\n",
        "print(b)"
      ],
      "metadata": {
        "colab": {
          "base_uri": "https://localhost:8080/"
        },
        "id": "VRvkbPB_Nob1",
        "outputId": "9c3d1722-afd2-46e3-c1a6-9821dc0ea2ab"
      },
      "execution_count": null,
      "outputs": [
        {
          "output_type": "stream",
          "name": "stdout",
          "text": [
            "array('f', [1.0, 2.0, 3.0, 4.0, 5.0])\n",
            "array('f', [2.0, 4.0, 6.0, 8.0, 10.0])\n"
          ]
        }
      ]
    },
    {
      "cell_type": "code",
      "source": [
        "import numpy as np"
      ],
      "metadata": {
        "id": "RD9Wh-DqNoea"
      },
      "execution_count": null,
      "outputs": []
    },
    {
      "cell_type": "code",
      "source": [
        "a = np.array([[1, 2, 3], [4, 5, 6]])\n",
        "print(a)"
      ],
      "metadata": {
        "colab": {
          "base_uri": "https://localhost:8080/"
        },
        "id": "RMfDhADKNog0",
        "outputId": "d7340d86-3e7e-43b2-b975-a1ead6a52142"
      },
      "execution_count": null,
      "outputs": [
        {
          "output_type": "stream",
          "name": "stdout",
          "text": [
            "[[1 2 3]\n",
            " [4 5 6]]\n"
          ]
        }
      ]
    },
    {
      "cell_type": "code",
      "source": [
        "print(a.shape) # определяем форму массива"
      ],
      "metadata": {
        "colab": {
          "base_uri": "https://localhost:8080/"
        },
        "id": "QPrv7NYtNojW",
        "outputId": "ba6fee95-4a05-44ed-91b3-af38d0d49600"
      },
      "execution_count": null,
      "outputs": [
        {
          "output_type": "stream",
          "name": "stdout",
          "text": [
            "(2, 3)\n"
          ]
        }
      ]
    },
    {
      "cell_type": "code",
      "source": [
        "print(a.reshape(6, 1)) # преобразуем формат 2 строки, 3 столбца: (2, 3) в (6, 1) - 6 строк и 1 столбец"
      ],
      "metadata": {
        "colab": {
          "base_uri": "https://localhost:8080/"
        },
        "id": "If8oDBYiNol6",
        "outputId": "7a10406d-acef-4ad7-ff78-4b21848887be"
      },
      "execution_count": null,
      "outputs": [
        {
          "output_type": "stream",
          "name": "stdout",
          "text": [
            "[[1]\n",
            " [2]\n",
            " [3]\n",
            " [4]\n",
            " [5]\n",
            " [6]]\n"
          ]
        }
      ]
    },
    {
      "cell_type": "code",
      "source": [
        "print(np.zeros((3, 2), dtype=int)) #np.ones - единицы"
      ],
      "metadata": {
        "colab": {
          "base_uri": "https://localhost:8080/"
        },
        "id": "w2H05Wu0NooT",
        "outputId": "50926230-32f0-4118-ae36-8d5b29082b83"
      },
      "execution_count": null,
      "outputs": [
        {
          "output_type": "stream",
          "name": "stdout",
          "text": [
            "[[0 0]\n",
            " [0 0]\n",
            " [0 0]]\n"
          ]
        }
      ]
    },
    {
      "cell_type": "code",
      "source": [
        "print(np.zeros((3, 2)))"
      ],
      "metadata": {
        "colab": {
          "base_uri": "https://localhost:8080/"
        },
        "id": "-80I_HTmOF9v",
        "outputId": "8be6c21a-6fdb-4eec-8319-186482dc6e84"
      },
      "execution_count": null,
      "outputs": [
        {
          "output_type": "stream",
          "name": "stdout",
          "text": [
            "[[0. 0.]\n",
            " [0. 0.]\n",
            " [0. 0.]]\n"
          ]
        }
      ]
    },
    {
      "cell_type": "code",
      "source": [
        "#Функция eye(N, M, k) создаёт двумерный массив из нулей, где N строк, M=N (по умолчанию) столбцов и единиц по диагонали для k=0,  \n",
        "#для k = 1 - со сдвигом диагонали с единицами вверх и для k=-1 - со сдвигом диагонали с единицами вниз.\n",
        "a = np.eye(4, 4, k=0) \n",
        "print(a)"
      ],
      "metadata": {
        "colab": {
          "base_uri": "https://localhost:8080/"
        },
        "id": "oLnxJZ0MOGAl",
        "outputId": "33b8ee3f-9086-4589-d6f6-96c7d987ee1c"
      },
      "execution_count": null,
      "outputs": [
        {
          "output_type": "stream",
          "name": "stdout",
          "text": [
            "[[1. 0. 0. 0.]\n",
            " [0. 1. 0. 0.]\n",
            " [0. 0. 1. 0.]\n",
            " [0. 0. 0. 1.]]\n"
          ]
        }
      ]
    },
    {
      "cell_type": "code",
      "source": [
        "#Функция full(shape, fill_value) создает массив заданного формата и из указанных одинаковых значений.\n",
        "a = np.full((2, 2), 5)\n",
        "print(a)"
      ],
      "metadata": {
        "colab": {
          "base_uri": "https://localhost:8080/"
        },
        "id": "SzSC5bDeOGDg",
        "outputId": "cf258a99-8389-43be-9139-7ee81251a093"
      },
      "execution_count": null,
      "outputs": [
        {
          "output_type": "stream",
          "name": "stdout",
          "text": [
            "[[5 5]\n",
            " [5 5]]\n"
          ]
        }
      ]
    },
    {
      "cell_type": "markdown",
      "source": [
        "Задача 1"
      ],
      "metadata": {
        "id": "4Y-Eo8SqRIYu"
      }
    },
    {
      "cell_type": "code",
      "source": [
        "import numpy as np\n",
        "a = np.array([[1, 2, 3], [4, 5, 6]])\n",
        "print(\"Массив:\\n\", a)"
      ],
      "metadata": {
        "colab": {
          "base_uri": "https://localhost:8080/"
        },
        "id": "e9MrkjacOGGX",
        "outputId": "a56c4190-0e80-4c63-8f3d-b765ed10abc9"
      },
      "execution_count": null,
      "outputs": [
        {
          "output_type": "stream",
          "name": "stdout",
          "text": [
            "Массив:\n",
            " [[1 2 3]\n",
            " [4 5 6]]\n"
          ]
        }
      ]
    },
    {
      "cell_type": "markdown",
      "source": [
        "Задача 2"
      ],
      "metadata": {
        "id": "WnBP2_4ORMue"
      }
    },
    {
      "cell_type": "code",
      "source": [
        "import numpy as np\n",
        "print(np.eye(4, 4, k=0, dtype=int))"
      ],
      "metadata": {
        "colab": {
          "base_uri": "https://localhost:8080/"
        },
        "id": "VvYPBxM-OGI0",
        "outputId": "a67e69c6-0f9d-42aa-c28c-3d58dea5ef8d"
      },
      "execution_count": null,
      "outputs": [
        {
          "output_type": "stream",
          "name": "stdout",
          "text": [
            "[[1 0 0 0]\n",
            " [0 1 0 0]\n",
            " [0 0 1 0]\n",
            " [0 0 0 1]]\n"
          ]
        }
      ]
    },
    {
      "cell_type": "markdown",
      "source": [
        "Задача 3"
      ],
      "metadata": {
        "id": "r0yHE1kbRPYu"
      }
    },
    {
      "cell_type": "code",
      "source": [
        "import numpy as np\n",
        "print(np.zeros((8), dtype=int))"
      ],
      "metadata": {
        "id": "stS1BK0XOGLV"
      },
      "execution_count": null,
      "outputs": []
    },
    {
      "cell_type": "markdown",
      "source": [
        "Задача 4"
      ],
      "metadata": {
        "id": "JPepC_RSRR8c"
      }
    },
    {
      "cell_type": "code",
      "source": [
        "import numpy as np\n",
        "print(np.zeros((8, 1), dtype=int))"
      ],
      "metadata": {
        "id": "Qv9dgm5AOGN7"
      },
      "execution_count": null,
      "outputs": []
    },
    {
      "cell_type": "markdown",
      "source": [
        "Задача 5"
      ],
      "metadata": {
        "id": "7Ofvn5rCRUce"
      }
    },
    {
      "cell_type": "code",
      "source": [
        "import numpy as np\n",
        "print(np.full((2, 2), 5, dtype=float))"
      ],
      "metadata": {
        "colab": {
          "base_uri": "https://localhost:8080/"
        },
        "id": "sJ5vSC7aPE7n",
        "outputId": "6d6daa7c-a3f3-4612-8ff2-dbb0bf1e21c8"
      },
      "execution_count": null,
      "outputs": [
        {
          "output_type": "stream",
          "name": "stdout",
          "text": [
            "[[5. 5.]\n",
            " [5. 5.]]\n"
          ]
        }
      ]
    },
    {
      "cell_type": "markdown",
      "source": [
        "Задача 6"
      ],
      "metadata": {
        "id": "bmWQaL6hRW_4"
      }
    },
    {
      "cell_type": "code",
      "source": [
        "print(\"%.2f\"% np.random.sample())\n",
        "print(np.random.sample(3))\n",
        "print(np.random.sample((2, 3)))\n"
      ],
      "metadata": {
        "colab": {
          "base_uri": "https://localhost:8080/"
        },
        "id": "vEAzm2ngPE-b",
        "outputId": "a2447cf6-acf6-4297-a27a-1acd8bd1fd49"
      },
      "execution_count": null,
      "outputs": [
        {
          "output_type": "stream",
          "name": "stdout",
          "text": [
            "0.75\n",
            "[0.12081842 0.90148076 0.00449469]\n",
            "[[0.68783819 0.40142918 0.72187321]\n",
            " [0.15498645 0.08014955 0.89309226]]\n"
          ]
        }
      ]
    },
    {
      "cell_type": "markdown",
      "source": [
        "Задача 7"
      ],
      "metadata": {
        "id": "P0_U3Ui0RZqv"
      }
    },
    {
      "cell_type": "code",
      "source": [
        "import numpy as np\n",
        "import random \n",
        "\n",
        "def random_perest(a):\n",
        "  i, j = random.sample(range(0, len(a)), 2)\n",
        "  k = a[i]\n",
        "  a[i] = a[j]\n",
        "  a[j] = k\n",
        "  return a"
      ],
      "metadata": {
        "id": "rKJ2vEG0Nli-"
      },
      "execution_count": null,
      "outputs": []
    },
    {
      "cell_type": "code",
      "source": [
        "a = [1, 2, 3, 4, 5, 6, 7, 8]\n",
        "a = random_perest(a)\n",
        "a = random_perest(a)\n",
        "a = random_perest(a)\n",
        "print(a)"
      ],
      "metadata": {
        "colab": {
          "base_uri": "https://localhost:8080/"
        },
        "id": "GKfH-pTmJcY2",
        "outputId": "ea7f7e27-21c6-480c-e7c4-b29eceb71818"
      },
      "execution_count": null,
      "outputs": [
        {
          "output_type": "stream",
          "name": "stdout",
          "text": [
            "[3, 2, 1, 5, 8, 6, 7, 4]\n"
          ]
        }
      ]
    },
    {
      "cell_type": "code",
      "source": [
        "#Создать матрицу с 0 внутри и 1 на границах\n",
        "Z = np.ones((10,10))\n",
        "Z[1:-1,1:-1] = 0\n",
        "print(Z)"
      ],
      "metadata": {
        "colab": {
          "base_uri": "https://localhost:8080/"
        },
        "id": "Rfo06RzLKwfL",
        "outputId": "ff4a28ab-58d8-45eb-ede5-68714cd12f19"
      },
      "execution_count": null,
      "outputs": [
        {
          "output_type": "stream",
          "name": "stdout",
          "text": [
            "[[1. 1. 1. 1. 1. 1. 1. 1. 1. 1.]\n",
            " [1. 0. 0. 0. 0. 0. 0. 0. 0. 1.]\n",
            " [1. 0. 0. 0. 0. 0. 0. 0. 0. 1.]\n",
            " [1. 0. 0. 0. 0. 0. 0. 0. 0. 1.]\n",
            " [1. 0. 0. 0. 0. 0. 0. 0. 0. 1.]\n",
            " [1. 0. 0. 0. 0. 0. 0. 0. 0. 1.]\n",
            " [1. 0. 0. 0. 0. 0. 0. 0. 0. 1.]\n",
            " [1. 0. 0. 0. 0. 0. 0. 0. 0. 1.]\n",
            " [1. 0. 0. 0. 0. 0. 0. 0. 0. 1.]\n",
            " [1. 1. 1. 1. 1. 1. 1. 1. 1. 1.]]\n"
          ]
        }
      ]
    },
    {
      "cell_type": "code",
      "source": [
        "Z = np.ones((3,3))\n",
        "Z[1:-1,1:-1] = 0\n",
        "print(Z)"
      ],
      "metadata": {
        "colab": {
          "base_uri": "https://localhost:8080/"
        },
        "id": "qrB1ja_1Ku-r",
        "outputId": "ac09d733-fa94-435b-e8a0-83ceeb99c206"
      },
      "execution_count": null,
      "outputs": [
        {
          "output_type": "stream",
          "name": "stdout",
          "text": [
            "[[1. 1. 1.]\n",
            " [1. 0. 1.]\n",
            " [1. 1. 1.]]\n"
          ]
        }
      ]
    },
    {
      "cell_type": "markdown",
      "source": [
        "Задача 8"
      ],
      "metadata": {
        "id": "Uu6cxUtHRdmA"
      }
    },
    {
      "cell_type": "code",
      "source": [
        "import numpy as np\n",
        "Z = np.zeros((5,5),dtype = int)\n",
        "Z[1:-1,1:-1] = 1\n",
        "print(Z)"
      ],
      "metadata": {
        "colab": {
          "base_uri": "https://localhost:8080/"
        },
        "id": "ZK1x9AEUJcbL",
        "outputId": "ddd2a0fd-f0a1-42f0-ad09-ab6981aeee8e"
      },
      "execution_count": null,
      "outputs": [
        {
          "output_type": "stream",
          "name": "stdout",
          "text": [
            "[[0 0 0 0 0]\n",
            " [0 1 1 1 0]\n",
            " [0 1 1 1 0]\n",
            " [0 1 1 1 0]\n",
            " [0 0 0 0 0]]\n"
          ]
        }
      ]
    },
    {
      "cell_type": "code",
      "source": [
        "import numpy as np\n",
        "import random\n",
        "a = np.random.random_integers(1, 10, size=(3, 3))\n",
        "print(a)\n",
        "print(\"Минимум: \", a.min(axis=None)) \n",
        "print(\"Максимум: \", a.max(axis=None))\n",
        "print(\"Среднее арифметическое: \", a.mean(axis=None)) \n",
        "print(\"Стандартное отклонение: \", a.std(axis=None)) \n",
        "print(\"Индекс минимального значения: \", a.argmin(axis=None))\n",
        "print(\"Индекс максимального значения: \", a.argmax(axis=None))"
      ],
      "metadata": {
        "colab": {
          "base_uri": "https://localhost:8080/"
        },
        "id": "7Uj7nKlsSILv",
        "outputId": "b811c4a9-2a9b-4b69-e7c7-a0e05d7cffa3"
      },
      "execution_count": null,
      "outputs": [
        {
          "output_type": "stream",
          "name": "stdout",
          "text": [
            "[[ 4  6  2]\n",
            " [ 1  2  4]\n",
            " [10  3  8]]\n",
            "Минимум:  1\n",
            "Максимум:  10\n",
            "Среднее арифметическое:  4.444444444444445\n",
            "Стандартное отклонение:  2.8327886186626583\n",
            "Индекс минимального значения:  3\n",
            "Индекс максимального значения:  6\n"
          ]
        },
        {
          "output_type": "stream",
          "name": "stderr",
          "text": [
            "<ipython-input-47-d4d7f8bc636e>:3: DeprecationWarning: This function is deprecated. Please call randint(1, 10 + 1) instead\n",
            "  a = np.random.random_integers(1, 10, size=(3, 3))\n"
          ]
        }
      ]
    },
    {
      "cell_type": "markdown",
      "source": [
        "**19 Основы Numpy. Часть 2**"
      ],
      "metadata": {
        "id": "kgA6FJldRmyd"
      }
    },
    {
      "cell_type": "markdown",
      "source": [
        "Пример кода для определения количества осей тензора:"
      ],
      "metadata": {
        "id": "xYnopBQjVmyW"
      }
    },
    {
      "cell_type": "code",
      "source": [
        "import numpy as np\n",
        "\n",
        "x = np.array(1) \n",
        "print(x.ndim)\n",
        "y = np.array([1, 2, 3])\n",
        "print(y.ndim)\n",
        "z = np.array([[1, 2, 3], [4,5,6]])\n",
        "print(z.ndim)"
      ],
      "metadata": {
        "colab": {
          "base_uri": "https://localhost:8080/"
        },
        "id": "vzZylS6bRqdg",
        "outputId": "7238a54e-4dfd-4f6d-d46f-460955acff3f"
      },
      "execution_count": null,
      "outputs": [
        {
          "output_type": "stream",
          "name": "stdout",
          "text": [
            "0\n",
            "1\n",
            "2\n"
          ]
        }
      ]
    },
    {
      "cell_type": "code",
      "source": [
        "import numpy as np\n",
        "x = np.array(200) \n",
        "print(x.ndim)"
      ],
      "metadata": {
        "colab": {
          "base_uri": "https://localhost:8080/"
        },
        "id": "8Dh6Q0TIVqK3",
        "outputId": "78ad4272-6b94-4d55-aeac-d201eac4c1ce"
      },
      "execution_count": null,
      "outputs": [
        {
          "output_type": "stream",
          "name": "stdout",
          "text": [
            "0\n"
          ]
        }
      ]
    },
    {
      "cell_type": "code",
      "source": [
        "import numpy as np\n",
        "y = np.array([1, 2, 3, 4, 5, 6])\n",
        "print(y.ndim)"
      ],
      "metadata": {
        "colab": {
          "base_uri": "https://localhost:8080/"
        },
        "id": "iFPeR0WhVycc",
        "outputId": "aae1c65e-14ab-493b-ec3d-715bf8818aa7"
      },
      "execution_count": null,
      "outputs": [
        {
          "output_type": "stream",
          "name": "stdout",
          "text": [
            "1\n"
          ]
        }
      ]
    },
    {
      "cell_type": "code",
      "source": [
        "import numpy as np\n",
        "x = np.array([[1, 2, 3], [4,5,6], [4,5,6], [4,5,6]])\n",
        "print(x.ndim)"
      ],
      "metadata": {
        "colab": {
          "base_uri": "https://localhost:8080/"
        },
        "id": "bVtR4SsDVyfQ",
        "outputId": "15c0fcaa-657d-4527-8903-6a2d6037a205"
      },
      "execution_count": null,
      "outputs": [
        {
          "output_type": "stream",
          "name": "stdout",
          "text": [
            "2\n"
          ]
        }
      ]
    },
    {
      "cell_type": "markdown",
      "source": [
        "Пример кода умножения матрицы на число и сложения матриц:"
      ],
      "metadata": {
        "id": "d9m39JpoWXq1"
      }
    },
    {
      "cell_type": "code",
      "source": [
        "a = np.eye(3, 4, 0, int) # матрица из 3-х строк и 4-х столбцов из 0, с 1 - по главной диагонали\n",
        "b = np.eye(3, 4, 1, int) # матрица из 3-х строк и 4-х столбцов из 0, с 1 - по верхней диагонали\n",
        "c = 2*a + b \n",
        "print(c)"
      ],
      "metadata": {
        "colab": {
          "base_uri": "https://localhost:8080/"
        },
        "id": "eHnAn7vEWV2A",
        "outputId": "ee5b1d71-c56e-4908-c160-6de948b32043"
      },
      "execution_count": null,
      "outputs": [
        {
          "output_type": "stream",
          "name": "stdout",
          "text": [
            "[[2 1 0 0]\n",
            " [0 2 1 0]\n",
            " [0 0 2 1]]\n"
          ]
        }
      ]
    },
    {
      "cell_type": "markdown",
      "source": [
        "Пример кода для вычисления скалярного произведения векторов:"
      ],
      "metadata": {
        "id": "q6eKWG4EbAhx"
      }
    },
    {
      "cell_type": "code",
      "source": [
        "import numpy as np\n",
        "a = np.array([1,2,3])\n",
        "b = np.array([4,5,6])\n",
        "print(\"Скалярное произведение векторов a = {} и b = {}:\".format(a, b))\n",
        "print(np.dot(a, b))\n",
        "print(\"Скалярное произведение:\", a.dot(b)) # другой формат функции dot"
      ],
      "metadata": {
        "colab": {
          "base_uri": "https://localhost:8080/"
        },
        "id": "-GuHRhvSWail",
        "outputId": "90130fb6-b212-4464-cda7-d7524d70a431"
      },
      "execution_count": null,
      "outputs": [
        {
          "output_type": "stream",
          "name": "stdout",
          "text": [
            "Скалярное произведение векторов a = [1 2 3] и b = [4 5 6]:\n",
            "32\n",
            "Скалярное произведение: 32\n"
          ]
        }
      ]
    },
    {
      "cell_type": "code",
      "source": [
        "a = np.array([4, 1, 8])\n",
        "b = np.array([4, 5, 6])\n",
        "print(np.dot(a, b))"
      ],
      "metadata": {
        "colab": {
          "base_uri": "https://localhost:8080/"
        },
        "id": "u0u8rPkpbDN3",
        "outputId": "a7a82042-16d4-4863-f5e4-76cb0c9d6b28"
      },
      "execution_count": null,
      "outputs": [
        {
          "output_type": "stream",
          "name": "stdout",
          "text": [
            "69\n"
          ]
        }
      ]
    },
    {
      "cell_type": "markdown",
      "source": [
        "Пример кода векторного произведения двух векторов:"
      ],
      "metadata": {
        "id": "J2sK9DcHboiH"
      }
    },
    {
      "cell_type": "code",
      "source": [
        "import numpy as np\n",
        "\n",
        "a = np.array([1, 2, 3])\n",
        "b = np.array([5, 6, 7])\n",
        "c = np.cross(a, b)\n",
        "print(\"Вектор а =\", a)\n",
        "print(\"\\nВектор b =\", b)\n",
        "print(\"\\nВекторное произведение [a x b] =\", c)"
      ],
      "metadata": {
        "colab": {
          "base_uri": "https://localhost:8080/"
        },
        "id": "iFjulTtQbor_",
        "outputId": "67afa0a7-a7ea-4e05-ddd2-8d9fb74cd079"
      },
      "execution_count": null,
      "outputs": [
        {
          "output_type": "stream",
          "name": "stdout",
          "text": [
            "Вектор а = [1 2 3]\n",
            "\n",
            "Вектор b = [5 6 7]\n",
            "\n",
            "Векторное произведение [a x b] = [-4  8 -4]\n"
          ]
        }
      ]
    },
    {
      "cell_type": "markdown",
      "source": [
        "Пример кода произведения матриц:"
      ],
      "metadata": {
        "id": "naXaYnt7b2eW"
      }
    },
    {
      "cell_type": "code",
      "source": [
        "import numpy as np\n",
        "\n",
        "a = np.array([[1,2], [3,4]])\n",
        "print( \"\\nМассив a:\\n\", a)\n",
        "\n",
        "b = np.array([[1,2], [3,4]])\n",
        "print( \"\\nМассив b:\\n\", b)\n",
        "\n",
        "print( \"\"\"\\nПроизведение двух массивов а и b:\n",
        "           1 - (1,2)*(1,3) = 1*1 + 2*3 = 7\n",
        "           2 - (1,2)*(2,4) = 1*2 + 2*4 = 10\n",
        "           3 - (3,4)*(1,3) = 3*1 + 4*3 = 15\n",
        "           4 - (3,4)*(2,4) = 3*2 + 4*4 = 22\"\"\")\n",
        "print(a.dot(b))"
      ],
      "metadata": {
        "colab": {
          "base_uri": "https://localhost:8080/"
        },
        "id": "jmld2VfJb2mu",
        "outputId": "bbf7ed0c-7549-415d-afd0-7a1aa6aa60f6"
      },
      "execution_count": null,
      "outputs": [
        {
          "output_type": "stream",
          "name": "stdout",
          "text": [
            "\n",
            "Массив a:\n",
            " [[1 2]\n",
            " [3 4]]\n",
            "\n",
            "Массив b:\n",
            " [[1 2]\n",
            " [3 4]]\n",
            "\n",
            "Произведение двух массивов а и b:\n",
            "           1 - (1,2)*(1,3) = 1*1 + 2*3 = 7\n",
            "           2 - (1,2)*(2,4) = 1*2 + 2*4 = 10\n",
            "           3 - (3,4)*(1,3) = 3*1 + 4*3 = 15\n",
            "           4 - (3,4)*(2,4) = 3*2 + 4*4 = 22\n",
            "[[ 7 10]\n",
            " [15 22]]\n"
          ]
        }
      ]
    },
    {
      "cell_type": "markdown",
      "source": [
        "**Задача**\n",
        "\n",
        "Найдите произведение двух матриц.\n",
        "\n",
        "Первая матрица состоит из единиц, формат массива (5, 3); вторая матрица состоит из семерок, формат массива (3, 2). \n",
        "\n",
        "Сделайте вывод каждой матрицы и их произведения.\n",
        "\n",
        "Для корректной проверки кода, вывод текста и соответствующей ему матрицы реализуйте в  операторе print для каждой матрицы. Для переноса на следующую строку используйте \\n."
      ],
      "metadata": {
        "id": "blL0L9XOcFcv"
      }
    },
    {
      "cell_type": "code",
      "source": [
        "import numpy as np\n",
        "a = np.ones((5,3), dtype = float)\n",
        "b = np.full((3,2), 7, dtype = int)\n",
        "print(\"\\nПервая матрица:\\n\", a)\n",
        "print(\"\\nВторая матрица:\\n\", b)\n",
        "print(\"\\nПроизведение матриц:\\n\", np.dot(a, b))"
      ],
      "metadata": {
        "colab": {
          "base_uri": "https://localhost:8080/"
        },
        "id": "nZKiR20mcIh4",
        "outputId": "1ba03422-81a7-4703-96c3-9f0fcb835ffa"
      },
      "execution_count": null,
      "outputs": [
        {
          "output_type": "stream",
          "name": "stdout",
          "text": [
            "\n",
            "Первая матрица:\n",
            " [[1. 1. 1.]\n",
            " [1. 1. 1.]\n",
            " [1. 1. 1.]\n",
            " [1. 1. 1.]\n",
            " [1. 1. 1.]]\n",
            "\n",
            "Вторая матрица:\n",
            " [[7 7]\n",
            " [7 7]\n",
            " [7 7]]\n",
            "\n",
            "Произведение матриц:\n",
            " [[21. 21.]\n",
            " [21. 21.]\n",
            " [21. 21.]\n",
            " [21. 21.]\n",
            " [21. 21.]]\n"
          ]
        }
      ]
    },
    {
      "cell_type": "markdown",
      "source": [
        "**20 Представление данных для нейронных сетей. Часть 1**"
      ],
      "metadata": {
        "id": "AZU6178nd55I"
      }
    },
    {
      "cell_type": "markdown",
      "source": [
        "*Ключевые атрибуты тензоров*\n",
        "\n",
        "Тензор определяется тремя ключевыми атрибутами:\n",
        "\n",
        "1-Количество осей (ранг) — например, трехмерный тензор имеет три оси, а матрица — две. В библиотеках для Python, таких как Numpy, этот атрибут тензоров имеет имя ndim .\n",
        "\n",
        "2-Форма — кортеж целых чисел, описывающих количество измерений на каждой оси тензора. Например, матрица в предыдущем примере имеет форму (3, 5) , а трехмерный тензор имеет форму (3, 3, 5) . Вектор имеет форму с единственным элементом, например (5,) , тогда как скаляр имеет пустую форму (). В NumPy форма хранится в атрибуте shape.\n",
        "\n",
        "3-Тип данных (обычно в библиотеках для Python ему дается имя dtype ) — это тип данных, содержащихся в тензоре; например, тензор может иметь тип float32 , uint8 , float64 и др. В редких случаях можно встретить тензоры типа char. Обратите внимание, что в Numpy (и в большинстве других библиотек) отсутствуют строковые тензоры, потому что тензоры хранятся в заранее выделенных, непрерывных сегментах памяти и строки, будучи сущностями с изменяющейся длиной, препятствуют использованию такой реализации. В NumPy форма хранится в атрибуте dtype."
      ],
      "metadata": {
        "id": "RrCIw1tfeOCA"
      }
    },
    {
      "cell_type": "markdown",
      "source": [
        "*Размерность массива может быть увеличена при использовании константы newaxis или с помощью функции expand_dims() *"
      ],
      "metadata": {
        "id": "heYFV6vBeWHQ"
      }
    },
    {
      "cell_type": "code",
      "source": [],
      "metadata": {
        "id": "ZnqnewkBeClB"
      },
      "execution_count": null,
      "outputs": []
    }
  ]
}