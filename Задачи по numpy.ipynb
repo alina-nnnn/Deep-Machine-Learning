{
 "cells": [
  {
   "cell_type": "code",
   "execution_count": 45,
   "id": "83b3c52c",
   "metadata": {},
   "outputs": [
    {
     "name": "stdout",
     "output_type": "stream",
     "text": [
      "1.20.1\n",
      "blas_mkl_info:\n",
      "    libraries = ['mkl_rt']\n",
      "    library_dirs = ['C:/Users/alina/anaconda3\\\\Library\\\\lib']\n",
      "    define_macros = [('SCIPY_MKL_H', None), ('HAVE_CBLAS', None)]\n",
      "    include_dirs = ['C:/Users/alina/anaconda3\\\\Library\\\\include']\n",
      "blas_opt_info:\n",
      "    libraries = ['mkl_rt']\n",
      "    library_dirs = ['C:/Users/alina/anaconda3\\\\Library\\\\lib']\n",
      "    define_macros = [('SCIPY_MKL_H', None), ('HAVE_CBLAS', None)]\n",
      "    include_dirs = ['C:/Users/alina/anaconda3\\\\Library\\\\include']\n",
      "lapack_mkl_info:\n",
      "    libraries = ['mkl_rt']\n",
      "    library_dirs = ['C:/Users/alina/anaconda3\\\\Library\\\\lib']\n",
      "    define_macros = [('SCIPY_MKL_H', None), ('HAVE_CBLAS', None)]\n",
      "    include_dirs = ['C:/Users/alina/anaconda3\\\\Library\\\\include']\n",
      "lapack_opt_info:\n",
      "    libraries = ['mkl_rt']\n",
      "    library_dirs = ['C:/Users/alina/anaconda3\\\\Library\\\\lib']\n",
      "    define_macros = [('SCIPY_MKL_H', None), ('HAVE_CBLAS', None)]\n",
      "    include_dirs = ['C:/Users/alina/anaconda3\\\\Library\\\\include']\n",
      "None\n"
     ]
    }
   ],
   "source": [
    "## NumPy Basic\n",
    "# Задача 1\n",
    "import numpy as np\n",
    "import math as m \n",
    "from numpy import linalg as lg\n",
    "print(np.version.version)\n",
    "print(np.show_config())"
   ]
  },
  {
   "cell_type": "code",
   "execution_count": 22,
   "id": "b8473350",
   "metadata": {},
   "outputs": [
    {
     "name": "stdout",
     "output_type": "stream",
     "text": [
      "add(x1, x2, /, out=None, *, where=True, casting='same_kind', order='K', dtype=None, subok=True[, signature, extobj])\n",
      "\n",
      "Add arguments element-wise.\n",
      "\n",
      "Parameters\n",
      "----------\n",
      "x1, x2 : array_like\n",
      "    The arrays to be added.\n",
      "    If ``x1.shape != x2.shape``, they must be broadcastable to a common\n",
      "    shape (which becomes the shape of the output).\n",
      "out : ndarray, None, or tuple of ndarray and None, optional\n",
      "    A location into which the result is stored. If provided, it must have\n",
      "    a shape that the inputs broadcast to. If not provided or None,\n",
      "    a freshly-allocated array is returned. A tuple (possible only as a\n",
      "    keyword argument) must have length equal to the number of outputs.\n",
      "where : array_like, optional\n",
      "    This condition is broadcast over the input. At locations where the\n",
      "    condition is True, the `out` array will be set to the ufunc result.\n",
      "    Elsewhere, the `out` array will retain its original value.\n",
      "    Note that if an uninitialized `out` array is created via the default\n",
      "    ``out=None``, locations within it where the condition is False will\n",
      "    remain uninitialized.\n",
      "**kwargs\n",
      "    For other keyword-only arguments, see the\n",
      "    :ref:`ufunc docs <ufuncs.kwargs>`.\n",
      "\n",
      "Returns\n",
      "-------\n",
      "add : ndarray or scalar\n",
      "    The sum of `x1` and `x2`, element-wise.\n",
      "    This is a scalar if both `x1` and `x2` are scalars.\n",
      "\n",
      "Notes\n",
      "-----\n",
      "Equivalent to `x1` + `x2` in terms of array broadcasting.\n",
      "\n",
      "Examples\n",
      "--------\n",
      ">>> np.add(1.0, 4.0)\n",
      "5.0\n",
      ">>> x1 = np.arange(9.0).reshape((3, 3))\n",
      ">>> x2 = np.arange(3.0)\n",
      ">>> np.add(x1, x2)\n",
      "array([[  0.,   2.,   4.],\n",
      "       [  3.,   5.,   7.],\n",
      "       [  6.,   8.,  10.]])\n",
      "\n",
      "The ``+`` operator can be used as a shorthand for ``np.add`` on ndarrays.\n",
      "\n",
      ">>> x1 = np.arange(9.0).reshape((3, 3))\n",
      ">>> x2 = np.arange(3.0)\n",
      ">>> x1 + x2\n",
      "array([[ 0.,  2.,  4.],\n",
      "       [ 3.,  5.,  7.],\n",
      "       [ 6.,  8., 10.]])\n",
      "None\n"
     ]
    }
   ],
   "source": [
    "# Задача 2\n",
    "print(np.info(np.add))"
   ]
  },
  {
   "cell_type": "code",
   "execution_count": 23,
   "id": "0da9d475",
   "metadata": {},
   "outputs": [
    {
     "name": "stdout",
     "output_type": "stream",
     "text": [
      "Ни один из элементов указанного массива не равен нулю:  True\n",
      "Ни один из элементов указанного массива не равен нулю:  False\n"
     ]
    }
   ],
   "source": [
    "# Задача 3\n",
    "a = np.array([1, 2, 3, 4 , 5])\n",
    "print(\"Ни один из элементов указанного массива не равен нулю: \", np.all(a))\n",
    "a2 = np.array([1, 2, 3, 4 , 5, 0])\n",
    "print(\"Ни один из элементов указанного массива не равен нулю: \", np.all(a2))"
   ]
  },
  {
   "cell_type": "code",
   "execution_count": 24,
   "id": "79926cd3",
   "metadata": {},
   "outputs": [
    {
     "name": "stdout",
     "output_type": "stream",
     "text": [
      "Ни один из элементов указанного массива не равен нулю:  True\n",
      "Ни один из элементов указанного массива не равен нулю:  False\n"
     ]
    }
   ],
   "source": [
    "# Задача 4\n",
    "a = np.array([1, 2, 3, 4 , 5])\n",
    "print(\"Ни один из элементов указанного массива не равен нулю: \", np.any(a))\n",
    "a2 = np.array([0, 0, 0, 0 , 0, 0])\n",
    "print(\"Ни один из элементов указанного массива не равен нулю: \", np.any(a2))"
   ]
  },
  {
   "cell_type": "code",
   "execution_count": 29,
   "id": "1c6595e4",
   "metadata": {},
   "outputs": [
    {
     "name": "stdout",
     "output_type": "stream",
     "text": [
      "Проверка элементов заданного массива на конечность:  [ True  True False False]\n"
     ]
    }
   ],
   "source": [
    "# Задача 5\n",
    "a = np.array([5, -4, np.nan, np.inf])\n",
    "print(\"Проверка элементов заданного массива на конечность: \", np.isfinite(a))"
   ]
  },
  {
   "cell_type": "code",
   "execution_count": 30,
   "id": "4e5d9770",
   "metadata": {},
   "outputs": [
    {
     "name": "stdout",
     "output_type": "stream",
     "text": [
      "Проверка элементов заданного массива на положительную или отрицательную бесконечность:  [False False False  True]\n"
     ]
    }
   ],
   "source": [
    "# Задача 6\n",
    "a = np.array([5, -4, np.nan, np.inf])\n",
    "print(\"Проверка элементов заданного массива на положительную или отрицательную бесконечность: \", np.isinf(a))"
   ]
  },
  {
   "cell_type": "code",
   "execution_count": 32,
   "id": "1161ef47",
   "metadata": {},
   "outputs": [
    {
     "name": "stdout",
     "output_type": "stream",
     "text": [
      "Проверка элементов заданного массива на NaN:  [False False  True False]\n"
     ]
    }
   ],
   "source": [
    "# Задача 7\n",
    "a = np.array([5, -4, np.nan, np.inf])\n",
    "print(\"Проверка элементов заданного массива на NaN: \", np.isnan(a))"
   ]
  },
  {
   "cell_type": "code",
   "execution_count": 38,
   "id": "44fd2d97",
   "metadata": {},
   "outputs": [
    {
     "name": "stdout",
     "output_type": "stream",
     "text": [
      "Проверка элементов заданного массива на наличие комплексных чисел:  [False False False False  True  True False False]\n",
      "Проверка элементов заданного массива на наличие действительных чисел:  [False False False False  True  True False False]\n",
      "Проверка элемента заданного массива на наличие скалярного типа числа:  False\n",
      "Проверка элемента заданного массива на наличие скалярного типа числа:  True\n"
     ]
    }
   ],
   "source": [
    "# Задача 8\n",
    "a = np.array([5, -4, np.nan, np.inf, 1 + 2j, 5j, 3.14, 5.2])\n",
    "print(\"Проверка элементов заданного массива на наличие комплексных чисел: \", np.iscomplex(a))\n",
    "print(\"Проверка элементов заданного массива на наличие действительных чисел: \", np.iscomplex(a))\n",
    "print(\"Проверка элемента заданного массива на наличие скалярного типа числа: \", np.isscalar([3.14]))\n",
    "print(\"Проверка элемента заданного массива на наличие скалярного типа числа: \", np.isscalar(1 + 2j))"
   ]
  },
  {
   "cell_type": "code",
   "execution_count": 40,
   "id": "c6ac412b",
   "metadata": {},
   "outputs": [
    {
     "name": "stdout",
     "output_type": "stream",
     "text": [
      "Являются ли два массива поэлементно равными в пределах допуска:  True\n"
     ]
    }
   ],
   "source": [
    "# Задача 9\n",
    "a1 = np.array([5e5, 1e-7, 4.000004e6])\n",
    "a2 = np.array([5.00001e5, 1e-7, 4e6])\n",
    "print(\"Являются ли два массива поэлементно равными в пределах допуска: \", np.allclose(a1, a2))"
   ]
  },
  {
   "cell_type": "code",
   "execution_count": 44,
   "id": "591b2449",
   "metadata": {},
   "outputs": [
    {
     "name": "stdout",
     "output_type": "stream",
     "text": [
      "Сравнение - больший:  [ True False False  True]\n",
      "Сравнение - больший_эквивалент:  [ True False False  True]\n",
      "Сравнение - меньший:  [False  True  True False]\n",
      "Сравнение - меньший_эквивалент:  [False  True  True False]\n"
     ]
    }
   ],
   "source": [
    "# Задача 10\n",
    "a1 = np.array([5, -4, 1, 5.8])\n",
    "a2 = np.array([0, 3, 3.14, -5.2])\n",
    "print(\"Сравнение - больший: \", np.greater(a1, a2))\n",
    "print(\"Сравнение - больший_эквивалент: \", np.greater_equal(a1, a2))\n",
    "print(\"Сравнение - меньший: \", np.less(a1, a2))\n",
    "print(\"Сравнение - меньший_эквивалент: \", np.less_equal(a1, a2))"
   ]
  },
  {
   "cell_type": "code",
   "execution_count": null,
   "id": "df221038",
   "metadata": {},
   "outputs": [],
   "source": []
  },
  {
   "cell_type": "code",
   "execution_count": null,
   "id": "eb65ea80",
   "metadata": {},
   "outputs": [],
   "source": []
  },
  {
   "cell_type": "code",
   "execution_count": 3,
   "id": "d2305901",
   "metadata": {},
   "outputs": [
    {
     "name": "stdout",
     "output_type": "stream",
     "text": [
      "[[0. 0. 0. 0. 0.]\n",
      " [0. 1. 1. 1. 0.]\n",
      " [0. 1. 1. 1. 0.]\n",
      " [0. 1. 1. 1. 0.]\n",
      " [0. 0. 0. 0. 0.]]\n"
     ]
    }
   ],
   "source": [
    "##NumPy массивы\n",
    "# Задача 9\n",
    "a = np.ones((3,3))  #заполняем единицами 3 на 3\n",
    "a = np.pad(a, pad_width=1, mode='constant', constant_values=0) #pad_with - количество значений, добавленных к краю каждой оси\n",
    "print(a)                                                       #constant - заполнение происходит с постоянным значением"
   ]
  },
  {
   "cell_type": "code",
   "execution_count": 9,
   "id": "64879b14",
   "metadata": {},
   "outputs": [
    {
     "name": "stdout",
     "output_type": "stream",
     "text": [
      "[1 2 3 4 5 6 7 8]\n",
      "[[8 4 6]\n",
      " [1 2 3]]\n"
     ]
    }
   ],
   "source": [
    "# Задача 11\n",
    "a = list(range(1, 9))\n",
    "print(np.asarray(a)) #преобразовать список в массив\n",
    "b = ([8, 4, 6], [1, 2, 3]) \n",
    "print(np.asarray(b)) #кортеж в массив"
   ]
  },
  {
   "cell_type": "code",
   "execution_count": 15,
   "id": "5ee15580",
   "metadata": {},
   "outputs": [
    {
     "name": "stdout",
     "output_type": "stream",
     "text": [
      "[[1.09409715e-311 2.47032823e-322 0.00000000e+000]\n",
      " [0.00000000e+000 7.56587583e-307 1.33664410e+160]\n",
      " [6.81637749e-091 1.45138931e+165 4.31924849e-038]\n",
      " [8.84374829e+165 3.99910963e+252 4.93432906e+257]]\n",
      "[[8 8 8]\n",
      " [8 8 8]\n",
      " [8 8 8]]\n"
     ]
    }
   ],
   "source": [
    "# Задача 13\n",
    "a = np.empty((4,3)) #(пустой) Массив неициированных (случайных) значений, указанной формы, типа и порядка\n",
    "print(a)\n",
    "b = np.full((3,3),8) #Полный массив\n",
    "print(b)"
   ]
  },
  {
   "cell_type": "code",
   "execution_count": 18,
   "id": "5e3bbe6f",
   "metadata": {},
   "outputs": [
    {
     "name": "stdout",
     "output_type": "stream",
     "text": [
      "Действительные части массива комплексных чисел:  [1.         0.70710678]\n",
      "Мнимые части массива комплексных чисел:  [0.         0.70710678]\n"
     ]
    }
   ],
   "source": [
    "# Задача 15\n",
    "a = np.array([1.00000000 + 0.j, 0.70710678 + 0.70710678j])\n",
    "print(\"Действительные части массива комплексных чисел: \", a.real)\n",
    "print(\"Мнимые части массива комплексных чисел: \", a.imag)"
   ]
  },
  {
   "cell_type": "code",
   "execution_count": 20,
   "id": "89ef5472",
   "metadata": {},
   "outputs": [
    {
     "name": "stdout",
     "output_type": "stream",
     "text": [
      "[ True False  True False False]\n"
     ]
    }
   ],
   "source": [
    "# Задача 17\n",
    "array1 = np.array([0, 1, 2, 3, 5])\n",
    "array2 = np.arange(0, 10, 2)\n",
    "print(np.in1d(array1, array2)) #Присутствует ли каждый элемент одномерного массива во втором массиве"
   ]
  },
  {
   "cell_type": "code",
   "execution_count": 22,
   "id": "1def469f",
   "metadata": {},
   "outputs": [
    {
     "name": "stdout",
     "output_type": "stream",
     "text": [
      "Уникальные элементы массива:  [10 20 30]\n"
     ]
    }
   ],
   "source": [
    "# Задача 19\n",
    "a = np.array([10, 10, 20, 20, 30, 30])\n",
    "print(\"Уникальные элементы массива: \", np.unique(a))"
   ]
  },
  {
   "cell_type": "code",
   "execution_count": 24,
   "id": "60a1e8db",
   "metadata": {},
   "outputs": [
    {
     "name": "stdout",
     "output_type": "stream",
     "text": [
      "Уникальные значения, которые есть только в одном (а не в обоих) входных массивах:  [ 0 20 30 50 60 70 80]\n"
     ]
    }
   ],
   "source": [
    "# Задача 21\n",
    "array1 = ([0, 10, 20, 40, 60, 80])\n",
    "array2 = ([10, 30, 40, 50, 70])\n",
    "print(\"Уникальные значения, которые есть только в одном (а не в обоих) входных массивах: \", np.setxor1d(array1, array2))"
   ]
  },
  {
   "cell_type": "code",
   "execution_count": 26,
   "id": "f0abb108",
   "metadata": {},
   "outputs": [
    {
     "name": "stdout",
     "output_type": "stream",
     "text": [
      "False\n",
      "True\n",
      "False\n",
      "True\n"
     ]
    }
   ],
   "source": [
    "# Задача 23\n",
    "#Проверить все ли значения в массиве- True(0 - False)\n",
    "print(np.all([[True,False],[True,True]]))\n",
    "print(np.all([[True,True],[True,True]]))\n",
    "print(np.all([10, 20, 0, -50]))\n",
    "print(np.all([10, 20, -50]))"
   ]
  },
  {
   "cell_type": "code",
   "execution_count": 28,
   "id": "95bf4431",
   "metadata": {},
   "outputs": [
    {
     "name": "stdout",
     "output_type": "stream",
     "text": [
      "[1 2 3 4 1 2 3 4]\n"
     ]
    }
   ],
   "source": [
    "# Задача 25\n",
    "a = np.array([1, 2, 3, 4])\n",
    "print(np.tile(a, 2)) #Массив повторился 2 раза"
   ]
  },
  {
   "cell_type": "code",
   "execution_count": 32,
   "id": "b406bea0",
   "metadata": {},
   "outputs": [
    {
     "name": "stdout",
     "output_type": "stream",
     "text": [
      "5\n",
      "0\n"
     ]
    }
   ],
   "source": [
    "# Задача 27\n",
    "a = np.array([1, 2, 3, 4, 5, 6])\n",
    "print(np.argmax(a)) #Максимальное значение\n",
    "print(np.argmin(a)) #Минимальное значение"
   ]
  },
  {
   "cell_type": "code",
   "execution_count": null,
   "id": "bef9a7a9",
   "metadata": {},
   "outputs": [],
   "source": []
  },
  {
   "cell_type": "code",
   "execution_count": 44,
   "id": "493c12bb",
   "metadata": {},
   "outputs": [
    {
     "name": "stdout",
     "output_type": "stream",
     "text": [
      "Результат умножения 2х матриц: \n",
      "[[1 2]\n",
      " [3 4]]\n"
     ]
    }
   ],
   "source": [
    "## Numpy Линейная алгебра\n",
    "# Задача 1\n",
    "a1 = [[1, 0], [0, 1]]\n",
    "a2 = [[1, 2], [3, 4]]\n",
    "print(\"Результат умножения 2х матриц: \")\n",
    "print(np.dot(a1, a2))"
   ]
  },
  {
   "cell_type": "code",
   "execution_count": 46,
   "id": "2977f3d2",
   "metadata": {},
   "outputs": [
    {
     "name": "stdout",
     "output_type": "stream",
     "text": [
      "Определитель:  2.0\n"
     ]
    }
   ],
   "source": [
    "# Задача 4\n",
    "a = np.array([[1, 0], [1, 2]])\n",
    "print(\"Определитель квадратного массива: \", np.linalg.det(a)) #двумерный массив, количество строк и столбцов в котором одинаково"
   ]
  },
  {
   "cell_type": "code",
   "execution_count": 49,
   "id": "75b912d2",
   "metadata": {},
   "outputs": [
    {
     "name": "stdout",
     "output_type": "stream",
     "text": [
      "Определитель массива:  -18.999999999999996\n"
     ]
    }
   ],
   "source": [
    "# Задача 11\n",
    "a = np.array([[1,2,5],[3,4,6],[8,7,9]])\n",
    "print(\"Определитель массива: \", np.linalg.det(a))"
   ]
  },
  {
   "cell_type": "code",
   "execution_count": 52,
   "id": "5c46f83a",
   "metadata": {},
   "outputs": [
    {
     "name": "stdout",
     "output_type": "stream",
     "text": [
      "Обратная матрица: \n",
      "[[ 0.31578947 -0.89473684  0.42105263]\n",
      " [-1.10526316  1.63157895 -0.47368421]\n",
      " [ 0.57894737 -0.47368421  0.10526316]]\n"
     ]
    }
   ],
   "source": [
    "# Задача 12\n",
    "a = np.array([[1,2,5],[3,4,6],[8,7,9]])\n",
    "print(\"Обратная матрица: \")\n",
    "print(np.linalg.inv(a))"
   ]
  },
  {
   "cell_type": "code",
   "execution_count": 54,
   "id": "5e8b8509",
   "metadata": {},
   "outputs": [
    {
     "name": "stdout",
     "output_type": "stream",
     "text": [
      "Внешнее произведение двух заданных векторов: \n",
      "[[1 2 3 4]\n",
      " [0 0 0 0]\n",
      " [0 0 0 0]\n",
      " [1 2 3 4]]\n"
     ]
    }
   ],
   "source": [
    "# Задача 2\n",
    "a1 = [[1, 0], [0, 1]]\n",
    "a2 = [[1, 2], [3, 4]]\n",
    "print(\"Внешнее произведение двух заданных векторов: \")\n",
    "print(np.outer(a1, a2))"
   ]
  },
  {
   "cell_type": "code",
   "execution_count": 57,
   "id": "2cf19a99",
   "metadata": {},
   "outputs": [
    {
     "name": "stdout",
     "output_type": "stream",
     "text": [
      "Перекрестное произведение двух заданных векторов: \n",
      "(a1,a2) [ 2 -3]\n",
      "(a2,a1) [-2  3]\n"
     ]
    }
   ],
   "source": [
    "# Задача 3\n",
    "a1 = [[1, 0], [0, 1]]\n",
    "a2 = [[1, 2], [3, 4]]\n",
    "print(\"Перекрестное произведение двух заданных векторов: \")\n",
    "print(\"(a1,a2)\", np.cross(a1, a2))\n",
    "print(\"(a2,a1)\", np.cross(a2, a1))"
   ]
  },
  {
   "cell_type": "code",
   "execution_count": 59,
   "id": "9111010e",
   "metadata": {},
   "outputs": [
    {
     "name": "stdout",
     "output_type": "stream",
     "text": [
      "Сумма диагонального элемента данного массива:  4\n"
     ]
    }
   ],
   "source": [
    "# Задача 15\n",
    "a = [[0, 1, 2],\n",
    "    [3, 4, 5]]\n",
    "print(\"Сумма диагонального элемента данного массива: \", np.trace(a))"
   ]
  },
  {
   "cell_type": "code",
   "execution_count": null,
   "id": "b4041bb6",
   "metadata": {},
   "outputs": [],
   "source": []
  }
 ],
 "metadata": {
  "kernelspec": {
   "display_name": "Python 3",
   "language": "python",
   "name": "python3"
  },
  "language_info": {
   "codemirror_mode": {
    "name": "ipython",
    "version": 3
   },
   "file_extension": ".py",
   "mimetype": "text/x-python",
   "name": "python",
   "nbconvert_exporter": "python",
   "pygments_lexer": "ipython3",
   "version": "3.8.8"
  }
 },
 "nbformat": 4,
 "nbformat_minor": 5
}
